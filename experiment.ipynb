{
 "cells": [
  {
   "cell_type": "markdown",
   "metadata": {},
   "source": [
    "# One-shot learning (N-way) using Omniglot data set and Siamese Networks\n",
    "\n",
    "This notebook shows an implementation version of the paper [koch et al, Siamese Networks for one-shot learning](http://www.cs.cmu.edu/~rsalakhu/papers/oneshot1.pdf).\n",
    "\n",
    "The model has been created with [keras](https://keras.io/)."
   ]
  },
  {
   "cell_type": "markdown",
   "metadata": {},
   "source": [
    "## One-shot learning (N-way)\n",
    "\n",
    "Humans learn new concepts with very little supervision – e.g. a child can generalize the concept\n",
    "of “giraffe” from a single picture in a book.\n",
    "\n",
    "Deep learning has made major advances in areas such as speech, vision and language, but is notorious for requiring large datasets.\n",
    "\n",
    "The process of learning good features for machine learning applications can be very computationally expensive and may prove difficult in cases where little data is available.\n",
    "\n",
    "One-shot learning is a clasification problem in machine learning, that aims to learn information about categories from one, or only a few, training examples.\n",
    "\n",
    "An one-shot task aims to classify a test example, X, into one the N unique categories (N-ways) of a support set S which is a representation of the available C categories.\n",
    "\n",
    "The model is given the support set and it is also given a test example that has to classify.\n",
    "\n",
    "Since exactly one example in the support set has the right class of the test example, the aim is to correctly predict which support example is the same as the test example."
   ]
  },
  {
   "cell_type": "markdown",
   "metadata": {},
   "source": [
    "## Omniglot data set\n",
    "\n",
    "The data set contains 50 alphabets total, splitted into a background set of 30 alphabets and an evaluation set of 20 alphabets.  \n",
    "\n",
    "Each alphabet has a number of characters from 14 to 55 different characters drawn by 20 different subjects, resulting in 20 105x105 images for each character.\n",
    "\n",
    "The background set is only used to learn general knowledge about characters (e.g., hyperparameter inference or feature learning). One-shot learning results are reported using alphabets from the evaluation set."
   ]
  },
  {
   "cell_type": "code",
   "execution_count": null,
   "metadata": {},
   "outputs": [],
   "source": []
  }
 ],
 "metadata": {
  "kernelspec": {
   "display_name": "Python 3",
   "language": "python",
   "name": "python3"
  },
  "language_info": {
   "codemirror_mode": {
    "name": "ipython",
    "version": 3
   },
   "file_extension": ".py",
   "mimetype": "text/x-python",
   "name": "python",
   "nbconvert_exporter": "python",
   "pygments_lexer": "ipython3",
   "version": "3.6.5"
  }
 },
 "nbformat": 4,
 "nbformat_minor": 2
}

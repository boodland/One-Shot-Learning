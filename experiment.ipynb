{
 "cells": [
  {
   "cell_type": "markdown",
   "metadata": {},
   "source": [
    "# One-shot learning (N-way) using Omniglot data set and Siamese Neural Networks\n",
    "\n",
    "This notebook shows an implementation version of the paper [koch et al, Siamese Neural Networks for One-shot Image Recognition](http://www.cs.cmu.edu/~rsalakhu/papers/oneshot1.pdf).\n",
    "\n",
    "The model has been created with [keras](https://keras.io/)."
   ]
  },
  {
   "cell_type": "markdown",
   "metadata": {},
   "source": [
    "## One-shot learning (N-way)\n",
    "\n",
    "Humans learn new concepts with very little supervision – e.g. a child can generalize the concept\n",
    "of “giraffe” from a single picture in a book.\n",
    "\n",
    "Deep learning has made major advances in areas such as speech, vision and language, but is notorious for requiring large datasets.\n",
    "\n",
    "The process of learning good features for machine learning applications can be very computationally expensive and may prove difficult in cases where little data is available.\n",
    "\n",
    "One-shot learning is a clasification problem in machine learning, that aims to learn information about classes from one, or only a few, training examples.\n",
    "\n",
    "An one-shot task aims to classify a test example, X, into one the N unique classes (N-ways) of a support set S which is a representation of the available C classes.\n",
    "\n",
    "The model is given the support set and it is also given a test example that has to classify.\n",
    "\n",
    "Since exactly one example in the support set has the right class of the test example, the aim is to correctly predict which support example is the same as the test example."
   ]
  },
  {
   "cell_type": "markdown",
   "metadata": {},
   "source": [
    "## Omniglot data set\n",
    "\n",
    "The data set contains 50 alphabets total, splitted into a background set of 30 alphabets and an evaluation set of 20 alphabets. There is no overlap between the training and test data sets.\n",
    "\n",
    "Each alphabet has a number of characters from 14 to 55 different characters drawn by 20 different subjects, resulting in 20 105x105 images for each character with a total of 1623 character classes.\n",
    "\n",
    "The background set is only used to learn general knowledge about characters (e.g., hyperparameter inference or feature learning). One-shot learning results are reported using alphabets from the evaluation set.\n",
    "\n",
    "![alt text](./images/omniglot_general.png \"Omniglot Data Set\")\n",
    "\n",
    "Following are some of the alphabets represented in the data set:\n",
    "\n",
    "![alt text](./images/omniglot_alphabets.png \"Omniglot Alphabets\")\n",
    "\n",
    "An example of one one-shot task in this dataset can be seen in the following figure:\n",
    "    \n",
    "![alt text](./images/omniglot_20_way.png \"Omniglot 20-way task\")"
   ]
  },
  {
   "cell_type": "markdown",
   "metadata": {},
   "source": [
    "### Omniglot Service\n",
    "\n",
    "The data set is retrieved using OmniglotService class.\n",
    "\n",
    "It download and unzip the data set to the path specified when creating the class (./data by default) within the train and test folders respectively."
   ]
  },
  {
   "cell_type": "code",
   "execution_count": 4,
   "metadata": {},
   "outputs": [
    {
     "name": "stdout",
     "output_type": "stream",
     "text": [
      "Downloading data from https://github.com/brendenlake/omniglot/raw/master/python/images_background.zip\n",
      "Unziping data/images_background.zip to data\n",
      "Rename data/images_background to data/train_set\n",
      "Downloading data from https://github.com/brendenlake/omniglot/raw/master/python/images_evaluation.zip\n",
      "Unziping data/images_evaluation.zip to data\n",
      "Rename data/images_evaluation to data/test_set\n"
     ]
    }
   ],
   "source": [
    "from omniglot_service import OmniglotService\n",
    "data_service = OmniglotService()\n",
    "data_service.get_data()"
   ]
  },
  {
   "cell_type": "markdown",
   "metadata": {},
   "source": [
    "You can also retrieve the data by set type (train/test) and specify the folder name where will be unzip."
   ]
  },
  {
   "cell_type": "code",
   "execution_count": 5,
   "metadata": {},
   "outputs": [
    {
     "name": "stdout",
     "output_type": "stream",
     "text": [
      "Downloading data from https://github.com/brendenlake/omniglot/raw/master/python/images_evaluation.zip\n",
      "Unziping data/images_evaluation.zip to data\n",
      "Rename data/images_evaluation to data/test_alphabets\n"
     ]
    }
   ],
   "source": [
    "data_service.get_data_type('test_alphabets', data_type='test')"
   ]
  },
  {
   "cell_type": "code",
   "execution_count": 6,
   "metadata": {},
   "outputs": [
    {
     "name": "stdout",
     "output_type": "stream",
     "text": [
      "\u001b[34mtest_alphabets\u001b[m\u001b[m \u001b[34mtest_set\u001b[m\u001b[m       \u001b[34mtrain_set\u001b[m\u001b[m\n"
     ]
    }
   ],
   "source": [
    "!ls ./data"
   ]
  },
  {
   "cell_type": "markdown",
   "metadata": {},
   "source": [
    "Below there is a summary of the folders content:"
   ]
  },
  {
   "cell_type": "code",
   "execution_count": 45,
   "metadata": {},
   "outputs": [
    {
     "name": "stdout",
     "output_type": "stream",
     "text": [
      "Train Set:\n",
      "Number of alphabets =       30\n",
      "First five alphabets = ['Alphabet_of_the_Magi', 'Anglo-Saxon_Futhorc', 'Arcadian', 'Armenian', 'Asomtavruli_(Georgian)']\n",
      "First five classes of first alphabet = ['character01', 'character02', 'character03', 'character04', 'character05']\n",
      "First five images of first character of first alphabet = ['0709_01.png', '0709_02.png', '0709_03.png', '0709_04.png', '0709_05.png']\n",
      "\n",
      "Test Set:\n",
      "Number of alphabets  =       20\n",
      "First five alphabets = ['Angelic', 'Atemayar_Qelisayer', 'Atlantean', 'Aurek-Besh', 'Avesta']\n",
      "First five classes of first alphabet = ['character01', 'character02', 'character03', 'character04', 'character05']\n",
      "First five images of first character of first alphabet = ['0965_01.png', '0965_02.png', '0965_03.png', '0965_04.png', '0965_05.png']\n"
     ]
    }
   ],
   "source": [
    "print(\"Train Set:\")\n",
    "number_alphabets = !ls ./data/train_set | wc -l\n",
    "print(f'Number of alphabets = {number_alphabets[0]}')\n",
    "alphabets = !ls ./data/train_set | head -5\n",
    "print(f'First five alphabets = {alphabets}')\n",
    "classes = !ls ./data/train_set/Alphabet_of_the_Magi | head -5\n",
    "print(f'First five classes of first alphabet = {classes}')\n",
    "images = !ls ./data/train_set/Alphabet_of_the_Magi/character01 | head -5\n",
    "print(f'First five images of first character of first alphabet = {images}')\n",
    "print()\n",
    "print(\"Test Set:\")\n",
    "number_alphabets = !ls ./data/test_set | wc -l\n",
    "print(f'Number of alphabets  = {number_alphabets[0]}')\n",
    "alphabets = !ls ./data/test_set | head -5\n",
    "print(f'First five alphabets = {alphabets}')\n",
    "classes = !ls ./data/test_set/Angelic | head -5\n",
    "print(f'First five classes of first alphabet = {classes}')\n",
    "images = !ls ./data/test_set/Angelic/character01 | head -5\n",
    "print(f'First five images of first character of first alphabet = {images}')"
   ]
  }
 ],
 "metadata": {
  "kernelspec": {
   "display_name": "Python 3",
   "language": "python",
   "name": "python3"
  },
  "language_info": {
   "codemirror_mode": {
    "name": "ipython",
    "version": 3
   },
   "file_extension": ".py",
   "mimetype": "text/x-python",
   "name": "python",
   "nbconvert_exporter": "python",
   "pygments_lexer": "ipython3",
   "version": "3.6.5"
  }
 },
 "nbformat": 4,
 "nbformat_minor": 2
}

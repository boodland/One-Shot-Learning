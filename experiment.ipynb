{
 "cells": [
  {
   "cell_type": "markdown",
   "metadata": {},
   "source": [
    "# One-shot learning (N-way) using Omniglot data set and Siamese Neural Networks\n",
    "\n",
    "This notebook shows an implementation version of the paper [koch et al, Siamese Neural Networks for One-shot Image Recognition](http://www.cs.cmu.edu/~rsalakhu/papers/oneshot1.pdf).\n",
    "\n",
    "The model has been created with [keras](https://keras.io/)."
   ]
  },
  {
   "cell_type": "markdown",
   "metadata": {},
   "source": [
    "## One-shot learning (N-way)\n",
    "\n",
    "Humans learn new concepts with very little supervision – e.g. a child can generalize the concept\n",
    "of “giraffe” from a single picture in a book.\n",
    "\n",
    "Deep learning has made major advances in areas such as speech, vision and language, but is notorious for requiring large datasets.\n",
    "\n",
    "The process of learning good features for machine learning applications can be very computationally expensive and may prove difficult in cases where little data is available.\n",
    "\n",
    "One-shot learning is a clasification problem in machine learning, that aims to learn information about classes from one, or only a few, training examples.\n",
    "\n",
    "An one-shot task aims to classify a test example, X, into one the N unique classes (N-ways) of a support set S which is a representation of the available C classes.\n",
    "\n",
    "The model is given the support set and it is also given a test example that has to classify.\n",
    "\n",
    "Since exactly one example in the support set has the right class of the test example, the aim is to correctly predict which support example is the same as the test example."
   ]
  },
  {
   "cell_type": "markdown",
   "metadata": {},
   "source": [
    "## Omniglot data set\n",
    "\n",
    "The data set contains 50 alphabets total, splitted into a background set of 30 alphabets and an evaluation set of 20 alphabets. There is no overlap between the training and test data sets.\n",
    "\n",
    "Each alphabet has a number of characters from 14 to 55 different characters drawn by 20 different subjects, resulting in 20 105x105 images for each character with a total of 1623 character classes.\n",
    "\n",
    "The background set is only used to learn general knowledge about characters (e.g., hyperparameter inference or feature learning). One-shot learning results are reported using alphabets from the evaluation set.\n",
    "\n",
    "![alt text](./images/omniglot_general.png \"Omniglot Data Set\")\n",
    "\n",
    "Following are some of the alphabets represented in the data set:\n",
    "\n",
    "![alt text](./images/omniglot_alphabets.png \"Omniglot Alphabets\")\n",
    "\n",
    "An example of a 20-way one-shot task in this dataset can be seen in the following figure:\n",
    "    \n",
    "![alt text](./images/omniglot_20_way.png \"Omniglot 20-way task\")"
   ]
  },
  {
   "cell_type": "markdown",
   "metadata": {},
   "source": [
    "### Omniglot Service\n",
    "\n",
    "The data set is retrieved using OmniglotService class.\n",
    "\n",
    "It download and unzip the data set to the path specified when creating the class (./data by default) within the train_set and test_set folders respectively."
   ]
  },
  {
   "cell_type": "code",
   "execution_count": 1,
   "metadata": {},
   "outputs": [
    {
     "name": "stdout",
     "output_type": "stream",
     "text": [
      "Downloading data from https://github.com/brendenlake/omniglot/raw/master/python/images_background.zip\n",
      "Unziping data/images_background.zip to data\n",
      "Rename data/images_background to data/train_set\n",
      "Downloading data from https://github.com/brendenlake/omniglot/raw/master/python/images_evaluation.zip\n",
      "Unziping data/images_evaluation.zip to data\n",
      "Rename data/images_evaluation to data/test_set\n"
     ]
    }
   ],
   "source": [
    "from omniglot_service import OmniglotService\n",
    "\n",
    "data_service = OmniglotService()\n",
    "data_service.get_data()"
   ]
  },
  {
   "cell_type": "markdown",
   "metadata": {},
   "source": [
    "You can also retrieve the data by set type (train/test) and specify the folder name where will be unzip."
   ]
  },
  {
   "cell_type": "code",
   "execution_count": 2,
   "metadata": {},
   "outputs": [
    {
     "name": "stdout",
     "output_type": "stream",
     "text": [
      "Downloading data from https://github.com/brendenlake/omniglot/raw/master/python/images_evaluation.zip\n",
      "Unziping data/images_evaluation.zip to data\n",
      "Rename data/images_evaluation to data/test_alphabets\n"
     ]
    }
   ],
   "source": [
    "data_service.get_data_type('test_alphabets', data_type='test')"
   ]
  },
  {
   "cell_type": "markdown",
   "metadata": {},
   "source": [
    "Data folder content after getting the data:"
   ]
  },
  {
   "cell_type": "code",
   "execution_count": 3,
   "metadata": {},
   "outputs": [
    {
     "name": "stdout",
     "output_type": "stream",
     "text": [
      "\u001b[34mtest_alphabets\u001b[m\u001b[m \u001b[34mtest_set\u001b[m\u001b[m       \u001b[34mtrain_set\u001b[m\u001b[m\n"
     ]
    }
   ],
   "source": [
    "!ls ./data"
   ]
  },
  {
   "cell_type": "markdown",
   "metadata": {},
   "source": [
    "Below there is a summary of the folders content:"
   ]
  },
  {
   "cell_type": "code",
   "execution_count": 4,
   "metadata": {},
   "outputs": [
    {
     "name": "stdout",
     "output_type": "stream",
     "text": [
      "Train Set:\n",
      "Number of alphabets =       30\n",
      "First five alphabets = ['Alphabet_of_the_Magi', 'Anglo-Saxon_Futhorc', 'Arcadian', 'Armenian', 'Asomtavruli_(Georgian)']\n",
      "First five classes of first alphabet = ['character01', 'character02', 'character03', 'character04', 'character05']\n",
      "First five images of first character of first alphabet = ['0709_01.png', '0709_02.png', '0709_03.png', '0709_04.png', '0709_05.png']\n",
      "\n",
      "Test Set:\n",
      "Number of alphabets  =       20\n",
      "First five alphabets = ['Angelic', 'Atemayar_Qelisayer', 'Atlantean', 'Aurek-Besh', 'Avesta']\n",
      "First five classes of first alphabet = ['character01', 'character02', 'character03', 'character04', 'character05']\n",
      "First five images of first character of first alphabet = ['0965_01.png', '0965_02.png', '0965_03.png', '0965_04.png', '0965_05.png']\n"
     ]
    }
   ],
   "source": [
    "print(\"Train Set:\")\n",
    "number_alphabets = !ls ./data/train_set | wc -l\n",
    "print(f'Number of alphabets = {number_alphabets[0]}')\n",
    "alphabets = !ls ./data/train_set | head -5\n",
    "print(f'First five alphabets = {alphabets}')\n",
    "classes = !ls ./data/train_set/Alphabet_of_the_Magi | head -5\n",
    "print(f'First five classes of first alphabet = {classes}')\n",
    "images = !ls ./data/train_set/Alphabet_of_the_Magi/character01 | head -5\n",
    "print(f'First five images of first character of first alphabet = {images}')\n",
    "print()\n",
    "print(\"Test Set:\")\n",
    "number_alphabets = !ls ./data/test_set | wc -l\n",
    "print(f'Number of alphabets  = {number_alphabets[0]}')\n",
    "alphabets = !ls ./data/test_set | head -5\n",
    "print(f'First five alphabets = {alphabets}')\n",
    "classes = !ls ./data/test_set/Angelic | head -5\n",
    "print(f'First five classes of first alphabet = {classes}')\n",
    "images = !ls ./data/test_set/Angelic/character01 | head -5\n",
    "print(f'First five images of first character of first alphabet = {images}')"
   ]
  },
  {
   "cell_type": "markdown",
   "metadata": {},
   "source": [
    "### Omniglot Loader\n",
    "\n",
    "The data set is loaded into memory from the specified data set types folders using OmniglotLoader class.\n",
    "\n",
    "If any of the folders doesn't exist the loader uses the OmniglotService to retrieve de data set.\n",
    "\n",
    "Each data set type is stored in a tuple respectively with the first element being the data and the second the classes in the format 'alphabet/character' and saved to a pickle file to load it more quickly in subsequents loads."
   ]
  },
  {
   "cell_type": "code",
   "execution_count": 5,
   "metadata": {},
   "outputs": [
    {
     "name": "stdout",
     "output_type": "stream",
     "text": [
      "Loading data from data/train_set\n",
      "Saving data to data/train.pickle\n",
      "Loading data from data/test_set\n",
      "Saving data to data/test.pickle\n"
     ]
    }
   ],
   "source": [
    "from omniglot_loader import OmniglotLoader\n",
    "\n",
    "omniglot_loader = OmniglotLoader(path='./data', train_folder='train_set', test_folder='test_set')\n",
    "train_set, test_set = omniglot_loader.load_data()"
   ]
  },
  {
   "cell_type": "code",
   "execution_count": 6,
   "metadata": {},
   "outputs": [
    {
     "name": "stdout",
     "output_type": "stream",
     "text": [
      "Loading data from data/train.pickle\n",
      "Loading data from data/test.pickle\n"
     ]
    }
   ],
   "source": [
    "train_set, test_set = omniglot_loader.load_data()"
   ]
  },
  {
   "cell_type": "markdown",
   "metadata": {},
   "source": [
    "Below there is a summary of the tuple's content:"
   ]
  },
  {
   "cell_type": "code",
   "execution_count": 7,
   "metadata": {},
   "outputs": [
    {
     "name": "stdout",
     "output_type": "stream",
     "text": [
      "Train Set:\n",
      "Number of classes = 964\n",
      "Images per class  = 20\n",
      "Image shape (H,W,C) = 105, 105, 1\n",
      "First five classes = ['Alphabet_of_the_Magi/character01' 'Alphabet_of_the_Magi/character02'\n",
      " 'Alphabet_of_the_Magi/character03' 'Alphabet_of_the_Magi/character04'\n",
      " 'Alphabet_of_the_Magi/character05']\n",
      "\n",
      "Test Set:\n",
      "Number of classes = 659\n",
      "Images per class  = 20\n",
      "Image shape (H,W,C) = 105, 105, 1\n",
      "First five classes = ['Angelic/character01' 'Angelic/character02' 'Angelic/character03'\n",
      " 'Angelic/character04' 'Angelic/character05']\n",
      "\n",
      "Number of classes in both data sets = 0\n"
     ]
    }
   ],
   "source": [
    "print(\"Train Set:\")\n",
    "classes, images_per_class, height, width, channels = train_set[0].shape\n",
    "print(f'Number of classes = {classes}')\n",
    "print(f'Images per class  = {images_per_class}')\n",
    "print(f'Image shape (H,W,C) = {height}, {width}, {channels}')\n",
    "print(f'First five classes = {train_set[1][0:5]}')\n",
    "print()\n",
    "print(\"Test Set:\")\n",
    "classes, images_per_class, height, width, channels = test_set[0].shape\n",
    "print(f'Number of classes = {classes}')\n",
    "print(f'Images per class  = {images_per_class}')\n",
    "print(f'Image shape (H,W,C) = {height}, {width}, {channels}')\n",
    "print(f'First five classes = {test_set[1][0:5]}')\n",
    "print()\n",
    "common_classes = set(train_set[1])&set(test_set[1])\n",
    "print(f'Number of classes in both data sets = {len(common_classes)}')"
   ]
  },
  {
   "cell_type": "markdown",
   "metadata": {},
   "source": [
    "Following is a random sample of each data set:"
   ]
  },
  {
   "cell_type": "code",
   "execution_count": 8,
   "metadata": {},
   "outputs": [
    {
     "data": {
      "image/png": "[encoded data removed]",
      "text/plain": [
       "<Figure size 720x720 with 2 Axes>"
      ]
     },
     "metadata": {},
     "output_type": "display_data"
    }
   ],
   "source": [
    "%matplotlib inline\n",
    "import matplotlib.pyplot as plt\n",
    "import numpy as np\n",
    "\n",
    "def display_image_pair(first_item, second_item):\n",
    "    fig,(ax1, ax2) = plt.subplots(1, 2, figsize=(10, 10))\n",
    "    ax1.matshow(first_item[0], cmap='gray')\n",
    "    ax2.matshow(second_item[0], cmap='gray')\n",
    "    ax1.get_yaxis().set_visible(False)\n",
    "    ax1.get_xaxis().set_visible(False)\n",
    "    ax1.set_title(f'Train Sample:\\n{first_item[1]}')\n",
    "    ax2.get_yaxis().set_visible(False)\n",
    "    ax2.get_xaxis().set_visible(False)\n",
    "    ax2.set_title(f'Test Sample:\\n{second_item[1]}')\n",
    "    plt.subplots_adjust(wspace=1)\n",
    "    plt.show()\n",
    "    \n",
    "train_class = np.random.randint(train_set[1].shape[0])\n",
    "train_image = train_set[0][train_class][0].reshape(height, width)\n",
    "test_class = np.random.randint(len(test_set[1]))\n",
    "test_image = test_set[0][test_class][0].reshape(height, width)\n",
    "\n",
    "display_image_pair((train_image, train_set[1][train_class]), (test_image, test_set[1][test_class]))"
   ]
  },
  {
   "cell_type": "markdown",
   "metadata": {},
   "source": [
    "### Omniglot Dataset\n",
    "\n",
    "The in memory data set is managed using OmniglotDataset class.\n",
    "\n",
    "The class load the data set using the OmniglotLoader class and split the train set in train and validation sets, leaving the test set unaltered."
   ]
  },
  {
   "cell_type": "code",
   "execution_count": 9,
   "metadata": {},
   "outputs": [
    {
     "name": "stdout",
     "output_type": "stream",
     "text": [
      "Loading data from data/train.pickle\n",
      "Loading data from data/test.pickle\n"
     ]
    }
   ],
   "source": [
    "from omniglot_dataset import OmniglotDataset\n",
    "\n",
    "omniglot_dataset = OmniglotDataset()\n",
    "omniglot_dataset.load()"
   ]
  },
  {
   "cell_type": "markdown",
   "metadata": {},
   "source": [
    "Each of the data sets tuple (train, validation and test) can be accessed using the corresponding class property/variable.\n",
    "Each data set type is stored in a tuple respectively with the first element being the data and the second the classes in the format 'alphabet/character' and they can be accessed using the corresponding instance property/variable."
   ]
  },
  {
   "cell_type": "code",
   "execution_count": 10,
   "metadata": {},
   "outputs": [
    {
     "name": "stdout",
     "output_type": "stream",
     "text": [
      "Train Set:\n",
      "Shape = (673, 20, 105, 105, 1)\n",
      "Classes: ['Alphabet_of_the_Magi/character01' 'Alphabet_of_the_Magi/character02'\n",
      " 'Alphabet_of_the_Magi/character03' 'Alphabet_of_the_Magi/character04'\n",
      " 'Alphabet_of_the_Magi/character05']...['Korean/character36' 'Korean/character37' 'Korean/character38'\n",
      " 'Korean/character39' 'Korean/character40']\n",
      "\n",
      "Validation Set:\n",
      "Shape = (291, 20, 105, 105, 1)\n",
      "Classes: ['Latin/character01' 'Latin/character02' 'Latin/character03'\n",
      " 'Latin/character04' 'Latin/character05']...['Tifinagh/character51' 'Tifinagh/character52' 'Tifinagh/character53'\n",
      " 'Tifinagh/character54' 'Tifinagh/character55']\n",
      "\n",
      "Test Set:\n",
      "Shape = (659, 20, 105, 105, 1)\n",
      "Classes: ['Angelic/character01' 'Angelic/character02' 'Angelic/character03'\n",
      " 'Angelic/character04' 'Angelic/character05']...['ULOG/character22' 'ULOG/character23' 'ULOG/character24'\n",
      " 'ULOG/character25' 'ULOG/character26']\n"
     ]
    }
   ],
   "source": [
    "print('Train Set:')\n",
    "print(f'Shape = {omniglot_dataset.train_set[0].shape}')\n",
    "print(f'Classes: {omniglot_dataset.train_set[1][:5]}...{omniglot_dataset.train_set[1][-5:]}')\n",
    "print()\n",
    "print('Validation Set:')\n",
    "print(f'Shape = {omniglot_dataset.val_set[0].shape}')\n",
    "print(f'Classes: {omniglot_dataset.val_set[1][:5]}...{omniglot_dataset.val_set[1][-5:]}')\n",
    "print()\n",
    "print('Test Set:')\n",
    "print(f'Shape = {omniglot_dataset.test_set[0].shape}')\n",
    "print(f'Classes: {omniglot_dataset.test_set[1][:5]}...{omniglot_dataset.test_set[1][-5:]}')"
   ]
  },
  {
   "cell_type": "markdown",
   "metadata": {},
   "source": [
    "The class also have two helper methods to retrieve random classes from a data set type:"
   ]
  },
  {
   "cell_type": "code",
   "execution_count": 11,
   "metadata": {},
   "outputs": [
    {
     "name": "stdout",
     "output_type": "stream",
     "text": [
      "Returned train classes = ['Grantha/character24' 'Braille/character11' 'Braille/character08'\n",
      " 'Early_Aramaic/character02']\n",
      "\n",
      "Returned validation classes = ['Latin/character21' 'Sanskrit/character22' 'Tagalog/character17'\n",
      " 'Tifinagh/character50']\n",
      "\n",
      "Returned test classes = ['Old_Church_Slavonic_(Cyrillic)/character26' 'Mongolian/character26'\n",
      " 'Tibetan/character26' 'ULOG/character22']\n"
     ]
    }
   ],
   "source": [
    "train_classes = omniglot_dataset.get_data_classes(4)\n",
    "print(f'Returned train classes = {omniglot_dataset.train_set[1][train_classes]}')\n",
    "print()\n",
    "val_classes = omniglot_dataset.get_data_classes(4, data_type='val')\n",
    "print(f'Returned validation classes = {omniglot_dataset.val_set[1][val_classes]}')\n",
    "print()\n",
    "test_classes = omniglot_dataset.get_data_classes(4, data_type='test')\n",
    "print(f'Returned test classes = {omniglot_dataset.test_set[1][test_classes]}')"
   ]
  },
  {
   "cell_type": "markdown",
   "metadata": {},
   "source": [
    "And to get a random pair of images of the same/different class/es from a data set type:"
   ]
  },
  {
   "cell_type": "code",
   "execution_count": 12,
   "metadata": {},
   "outputs": [
    {
     "data": {
      "image/png": "[encoded data removed]",
      "text/plain": [
       "<Figure size 720x720 with 2 Axes>"
      ]
     },
     "metadata": {},
     "output_type": "display_data"
    }
   ],
   "source": [
    "first_class = train_classes[0]\n",
    "first_class_name = omniglot_dataset.train_set[1][first_class]\n",
    "first_image, second_image = omniglot_dataset.get_image_pair(first_class, data_type='train', same_class='true')\n",
    "display_image_pair((first_image.reshape(height, width), first_class_name), \n",
    "                   (second_image.reshape(height, width), first_class_name))"
   ]
  },
  {
   "cell_type": "code",
   "execution_count": 13,
   "metadata": {},
   "outputs": [
    {
     "data": {
      "image/png": "[encoded data removed]",
      "text/plain": [
       "<Figure size 720x720 with 2 Axes>"
      ]
     },
     "metadata": {},
     "output_type": "display_data"
    }
   ],
   "source": [
    "first_class = train_classes[0]\n",
    "first_class_name = omniglot_dataset.train_set[1][first_class]\n",
    "first_image, second_image = omniglot_dataset.get_image_pair(first_class, data_type='train')\n",
    "display_image_pair((first_image.reshape(height, width), first_class_name), \n",
    "                   (second_image.reshape(height, width), f'NOT {first_class_name}'))"
   ]
  },
  {
   "cell_type": "markdown",
   "metadata": {},
   "source": [
    "Both methods will be used by the runner to create batch of data."
   ]
  }
 ],
 "metadata": {
  "kernelspec": {
   "display_name": "Python 3",
   "language": "python",
   "name": "python3"
  },
  "language_info": {
   "codemirror_mode": {
    "name": "ipython",
    "version": 3
   },
   "file_extension": ".py",
   "mimetype": "text/x-python",
   "name": "python",
   "nbconvert_exporter": "python",
   "pygments_lexer": "ipython3",
   "version": "3.6.5"
  }
 },
 "nbformat": 4,
 "nbformat_minor": 2
}
